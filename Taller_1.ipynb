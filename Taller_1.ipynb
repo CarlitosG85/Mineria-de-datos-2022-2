{
  "nbformat": 4,
  "nbformat_minor": 0,
  "metadata": {
    "colab": {
      "provenance": [],
      "collapsed_sections": []
    },
    "kernelspec": {
      "name": "python3",
      "display_name": "Python 3"
    },
    "language_info": {
      "name": "python"
    }
  },
  "cells": [
    {
      "cell_type": "markdown",
      "source": [
        "# **Taller 1**\n",
        "## Carlos Fernando Gonzalez Sarmiento"
      ],
      "metadata": {
        "id": "L4KWPVblVy1k"
      }
    },
    {
      "cell_type": "markdown",
      "source": [
        "## Ejercicio 1:\n",
        "\n",
        "Cree una función que transforme grados Fahrenheit a grados centígrados"
      ],
      "metadata": {
        "id": "g4ISGxGPsnvl"
      }
    },
    {
      "cell_type": "code",
      "execution_count": 154,
      "metadata": {
        "id": "h0m44FTbsisF"
      },
      "outputs": [],
      "source": [
        "def centi(a):\n",
        "  b=(a-32)/1.8\n",
        "  print(\"Los\",a,\"grados Farenheith convertidos en grados centigrados, son:\",b,\" grados.\")\n",
        "\n"
      ]
    },
    {
      "cell_type": "code",
      "source": [
        "centi(0)"
      ],
      "metadata": {
        "colab": {
          "base_uri": "https://localhost:8080/"
        },
        "id": "4CrTjaIVthwW",
        "outputId": "a9b4003f-2c4f-47fa-a9f0-af6ac92ef5f8"
      },
      "execution_count": 156,
      "outputs": [
        {
          "output_type": "stream",
          "name": "stdout",
          "text": [
            "Los 0 grados Farenheith convertidos en grados centigrados, son: -17.77777777777778  grados.\n"
          ]
        }
      ]
    },
    {
      "cell_type": "markdown",
      "source": [
        "## Ejercicio 2:\n",
        "\n",
        "Escribir un programa que almacene la cadena de caracteres contraseña en una variable, \n",
        "pregunte al usuario por la contraseña e imprima por pantalla si el valor es correcto o no en función \n",
        "de los siguientes aspectos:\n",
        "\n",
        "1. Falta al menos un carácter numérico\n",
        "2. Falta al menos uno de los siguientes carácter especiales : *, _ , !, $, % \n",
        "3. Falta al menos una mayúscula"
      ],
      "metadata": {
        "id": "xugUx1P-uJdW"
      }
    },
    {
      "cell_type": "code",
      "source": [
        "import re\n",
        "a=input(\"Escriba su contraseña: \")\n",
        "\n",
        "if(a!=\"contraseña\"): \n",
        "  \n",
        "\n",
        "  if type(re.search('[A-Z]',a))==type(re.search('[A-Z]',\"A\")):\n",
        "\n",
        "    print(\"Ya fue introducida al menos una mayúscula\")\n",
        "  else:\n",
        "\n",
        "    print(\"No ha introducido al menos una mayúscula, intente de nuevo\")\n",
        "  if(type(re.search('[1-9]',a))==type(re.search('[A-Z]',\"A\"))):\n",
        "    \n",
        "    print(\"Ya hay al menos un numero\")\n",
        "  else:\n",
        "\n",
        "    print(\"No ha introducido al menos un número, intente de nuevo\")\n",
        "  if(type(re.search('[*_ ! $ %]',a))==type(re.search('[A-Z]',\"A\"))):\n",
        "    \n",
        "    print(\"Ya hay al menos un caracter especial\")\n",
        "\n",
        "    if(type(re.search('[1-9]',a))==type(re.search('[A-Z]',\"A\"))):\n",
        "      if(type(re.search('[1-9]',a))==type(re.search('[A-Z]',\"A\"))):\n",
        "\n",
        "        print(\"Su contraseña:\",a,\",ha sido aceptada\")\n",
        "\n",
        "\n",
        "  else:\n",
        "\n",
        "    print(\"No ha introducido al menos un caracter especial, como estos: *, _ , !, $, %, intente de nuevo\") \n",
        "\n",
        "else:\n",
        "  print(\"Te hace falta, al menos un numero, al menos una mayúscula y alguno de estos caracteres:*, _ , !, $, % \")"
      ],
      "metadata": {
        "colab": {
          "base_uri": "https://localhost:8080/"
        },
        "id": "UgW0gNiTtoB9",
        "outputId": "69fb0359-7d9b-44ac-81b8-a64b3f4618a2"
      },
      "execution_count": 159,
      "outputs": [
        {
          "output_type": "stream",
          "name": "stdout",
          "text": [
            "Escriba su contraseña: A9$\n",
            "Ya fue introducida al menos una mayúscula\n",
            "Ya hay al menos un numero\n",
            "Ya hay al menos un caracter especial\n",
            "Su contraseña: A9$ ,ha sido aceptada\n"
          ]
        }
      ]
    },
    {
      "cell_type": "markdown",
      "source": [
        "## Ejercicio 3\n",
        "\n",
        "Laura y Sebastián vieron una promoción en Buscalibre dónde por la compra de 2 libros te llevas el \n",
        "tercero de menor valor. Ellos quieren analizar si hay una forma de adquirir 6 libros en dónde \n",
        "puedan sacar la mayor ganancia posible. Las opciones de libros son los siguientes:\n",
        "\n",
        "• Libro 1 por $50.000\n",
        "\n",
        "• Libro 2 por $30.000\n",
        "\n",
        "• Libro 3 por $80.000\n",
        "\n",
        "• Libro 4 por $20.000\n",
        "\n",
        "• Libro 5 por $100.000\n",
        "\n",
        "• Libro 6 por $40.000\n",
        "\n",
        "Escriba un programa que arroje cual debería ser la combinación de libros adecuada para ahorrar lo \n",
        "máximo posible.\n",
        "\n",
        "Ejemplo de Salida:\n",
        "\n",
        "• Combinación de libros 1: Libro 1, 4 y 6.\n",
        "\n",
        "• Combinación de libros 2: Libro 2, 3, 5.\n",
        "\n",
        "• Total de dinero ahorrado: “Total de libros” – “Descuento de promoción”. "
      ],
      "metadata": {
        "id": "uJwVY8jL65fI"
      }
    },
    {
      "cell_type": "markdown",
      "source": [
        "Para este ejercicio encontré dos caminos, uno haciendo las combinatorias paso a paso y otro con una librería, en ambas se llegó a las mismas conclusiones."
      ],
      "metadata": {
        "id": "i8ewebDeKjdu"
      }
    },
    {
      "cell_type": "markdown",
      "source": [
        "### Camino A"
      ],
      "metadata": {
        "id": "b5QTjgfOKxe7"
      }
    },
    {
      "cell_type": "code",
      "source": [
        "l1=50000\n",
        "l2=30000\n",
        "l3=80000\n",
        "l4=20000\n",
        "l5=100000\n",
        "l6=40000"
      ],
      "metadata": {
        "id": "ZZ-E93cp7RHp"
      },
      "execution_count": 160,
      "outputs": []
    },
    {
      "cell_type": "code",
      "source": [
        "a=[l1+l2+l3-min(l1,l2,l3),\n",
        "l4+l5+l6-min(l4,l5,l6),\n",
        "l1+l2+l4-min(l1,l2,l4),\n",
        "l1+l2+l5-min(l1,l2,l5),\n",
        "l1+l2+l6-min(l1,l2,l6),\n",
        "l1+l3+l4-min(l1,l3,l4),\n",
        "l1+l3+l5-min(l1,l3,l5),\n",
        "l1+l3+l6-min(l1,l3,l6),\n",
        "l1+l4+l5-min(l1,l4,l5),\n",
        "l1+l4+l6-min(l1,l4,l6),\n",
        "l1+l5+l6-min(l1,l5,l6),\n",
        "l2+l3+l4-min(l4,l3,l4),\n",
        "l2+l3+l5-min(l2,l3,l5),\n",
        "l2+l3+l6-min(l2,l3,l6),\n",
        "l2+l4+l5-min(l2,l4,l5),\n",
        "l2+l4+l6-min(l2,l4,l6),\n",
        "l2+l5+l6-min(l2,l5,l6),\n",
        "l3+l4+l5-min(l3,l4,l5),\n",
        "l3+l4+l6-min(l3,l4,l6),\n",
        "l3+l5+l6-min(l3,l5,l6)]"
      ],
      "metadata": {
        "id": "wVJxrxDB72IU"
      },
      "execution_count": 161,
      "outputs": []
    },
    {
      "cell_type": "code",
      "source": [
        "min(a)"
      ],
      "metadata": {
        "colab": {
          "base_uri": "https://localhost:8080/"
        },
        "id": "fLGaujh0-hgJ",
        "outputId": "cf48b0c9-fdd4-466b-8eb6-412d6c410099"
      },
      "execution_count": 162,
      "outputs": [
        {
          "output_type": "execute_result",
          "data": {
            "text/plain": [
              "70000"
            ]
          },
          "metadata": {},
          "execution_count": 162
        }
      ]
    },
    {
      "cell_type": "code",
      "source": [
        "a"
      ],
      "metadata": {
        "colab": {
          "base_uri": "https://localhost:8080/"
        },
        "id": "VfTjmTL6-mge",
        "outputId": "7793c8fc-6890-4f82-ae93-89a051839034"
      },
      "execution_count": 163,
      "outputs": [
        {
          "output_type": "execute_result",
          "data": {
            "text/plain": [
              "[130000,\n",
              " 140000,\n",
              " 80000,\n",
              " 150000,\n",
              " 90000,\n",
              " 130000,\n",
              " 180000,\n",
              " 130000,\n",
              " 150000,\n",
              " 90000,\n",
              " 150000,\n",
              " 110000,\n",
              " 180000,\n",
              " 120000,\n",
              " 130000,\n",
              " 70000,\n",
              " 140000,\n",
              " 180000,\n",
              " 120000,\n",
              " 180000]"
            ]
          },
          "metadata": {},
          "execution_count": 163
        }
      ]
    },
    {
      "cell_type": "code",
      "source": [
        "a9=[a[0]+a[1],\n",
        "a[2]+a[19],\n",
        "a[3]+a[18],\n",
        "a[4]+a[17],\n",
        "a[5]+a[16],\n",
        "a[6]+a[15],\n",
        "a[7]+a[14],\n",
        "a[8]+a[13],\n",
        "a[9]+a[12],\n",
        "a[10]+a[11]]\n"
      ],
      "metadata": {
        "id": "8kFdVUzrQAch"
      },
      "execution_count": 164,
      "outputs": []
    },
    {
      "cell_type": "code",
      "source": [
        "a9"
      ],
      "metadata": {
        "colab": {
          "base_uri": "https://localhost:8080/"
        },
        "id": "4RpWWoS2QdVT",
        "outputId": "6c0453da-6316-4dc0-9e55-7446a41db1ef"
      },
      "execution_count": 165,
      "outputs": [
        {
          "output_type": "execute_result",
          "data": {
            "text/plain": [
              "[270000,\n",
              " 260000,\n",
              " 270000,\n",
              " 270000,\n",
              " 270000,\n",
              " 250000,\n",
              " 260000,\n",
              " 270000,\n",
              " 270000,\n",
              " 260000]"
            ]
          },
          "metadata": {},
          "execution_count": 165
        }
      ]
    },
    {
      "cell_type": "code",
      "source": [
        "print(\"La combinación 1 de libros es: \",l2,l4,l6,\" respectivamente los libros 2,4 y 6, pagando con el descuento $\",a[15],\"Y ahorrandose $\",min(l2,l4,l6))\n",
        "print(\"La combinación 2 de libros es: \",l1,l3,l5, \"siendo los libros 1,3 y 5, pagando con el descuento $\",a[6],\"Y ahorrandose $\",min(l1,l3,l5))\n",
        "print(\"Para finalmente terminar pagando $\",a[6]+a[15],\"y con un descuento final de $\",min(l2,l4,l6)+min(l1,l3,l5))"
      ],
      "metadata": {
        "colab": {
          "base_uri": "https://localhost:8080/"
        },
        "id": "AbIaSgn-K7HP",
        "outputId": "2ee1a64b-cb54-4f25-d55b-476eec6550b3"
      },
      "execution_count": 166,
      "outputs": [
        {
          "output_type": "stream",
          "name": "stdout",
          "text": [
            "La combinación 1 de libros es:  30000 20000 40000  respectivamente los libros 2,4 y 6, pagando con el descuento $ 70000 Y ahorrandose $ 20000\n",
            "La combinación 2 de libros es:  50000 80000 100000 siendo los libros 1,3 y 5, pagando con el descuento $ 180000 Y ahorrandose $ 50000\n",
            "Para finalmente terminar pagando $ 250000 y con un descuento final de $ 70000\n"
          ]
        }
      ]
    },
    {
      "cell_type": "markdown",
      "source": [
        "### Camino B"
      ],
      "metadata": {
        "id": "wprH2lCVMc62"
      }
    },
    {
      "cell_type": "code",
      "source": [
        "from itertools import combinations\n",
        "a2=[l1,l2,l3,l4,l5,l6]\n",
        "tresx2=combinations(a2,3)\n",
        "\n",
        "i=0\n",
        "a5=[]\n",
        "for i in list(tresx2):\n",
        "  for j in range(0,1):\n",
        "  \n",
        "    print(i)"
      ],
      "metadata": {
        "colab": {
          "base_uri": "https://localhost:8080/"
        },
        "id": "mrCsFfwZ9AUc",
        "outputId": "d16ce668-2cac-47ab-ae9e-998e38c79607"
      },
      "execution_count": 167,
      "outputs": [
        {
          "output_type": "stream",
          "name": "stdout",
          "text": [
            "(50000, 30000, 80000)\n",
            "(50000, 30000, 20000)\n",
            "(50000, 30000, 100000)\n",
            "(50000, 30000, 40000)\n",
            "(50000, 80000, 20000)\n",
            "(50000, 80000, 100000)\n",
            "(50000, 80000, 40000)\n",
            "(50000, 20000, 100000)\n",
            "(50000, 20000, 40000)\n",
            "(50000, 100000, 40000)\n",
            "(30000, 80000, 20000)\n",
            "(30000, 80000, 100000)\n",
            "(30000, 80000, 40000)\n",
            "(30000, 20000, 100000)\n",
            "(30000, 20000, 40000)\n",
            "(30000, 100000, 40000)\n",
            "(80000, 20000, 100000)\n",
            "(80000, 20000, 40000)\n",
            "(80000, 100000, 40000)\n",
            "(20000, 100000, 40000)\n"
          ]
        }
      ]
    },
    {
      "cell_type": "code",
      "source": [
        "a5=[(50000, 30000, 80000),\n",
        "(50000, 30000, 20000),\n",
        "(50000, 30000, 100000),\n",
        "(50000, 30000, 40000),\n",
        "(50000, 80000, 20000),\n",
        "(50000, 80000, 100000),\n",
        "(50000, 80000, 40000),\n",
        "(50000, 20000, 100000),\n",
        "(50000, 20000, 40000),\n",
        "(50000, 100000, 40000),\n",
        "(30000, 80000, 20000),\n",
        "(30000, 80000, 100000),\n",
        "(30000, 80000, 40000),\n",
        "(30000, 20000, 100000),\n",
        "(30000, 20000, 40000),\n",
        "(30000, 100000, 40000),\n",
        "(80000, 20000, 100000),\n",
        "(80000, 20000, 40000),\n",
        "(80000, 100000, 40000),\n",
        "(20000, 100000, 40000)]\n",
        "\n",
        "a6=[0,0,0,0,0,0,0,0,0,0,0,0,0,0,0,0,0,0,0,0]\n",
        "for i in range(0,len(a5)):\n",
        "  a6[i]=sum(a5[i])-min(a5[i])"
      ],
      "metadata": {
        "id": "H0ScLpIYCyQn"
      },
      "execution_count": 168,
      "outputs": []
    },
    {
      "cell_type": "code",
      "source": [
        "a6"
      ],
      "metadata": {
        "colab": {
          "base_uri": "https://localhost:8080/"
        },
        "id": "S_mnb3y6FYwg",
        "outputId": "f6a17268-13f6-4221-ac6e-0917f4277038"
      },
      "execution_count": 169,
      "outputs": [
        {
          "output_type": "execute_result",
          "data": {
            "text/plain": [
              "[130000,\n",
              " 80000,\n",
              " 150000,\n",
              " 90000,\n",
              " 130000,\n",
              " 180000,\n",
              " 130000,\n",
              " 150000,\n",
              " 90000,\n",
              " 150000,\n",
              " 110000,\n",
              " 180000,\n",
              " 120000,\n",
              " 130000,\n",
              " 70000,\n",
              " 140000,\n",
              " 180000,\n",
              " 120000,\n",
              " 180000,\n",
              " 140000]"
            ]
          },
          "metadata": {},
          "execution_count": 169
        }
      ]
    },
    {
      "cell_type": "markdown",
      "source": [
        "Parece ser que las combinaciones con menor valor y distintas son la 6 y la 15"
      ],
      "metadata": {
        "id": "exmNvQ_KG96s"
      }
    },
    {
      "cell_type": "code",
      "source": [
        "print(\"La combinación 1 de libros es: \",l1,l3,l5,\" respectivamente los libros 1,3 y 5, pagando con el descuento $\",a6[5],\"Y ahorrandose $\",min(l1,l3,l5))\n",
        "print(\"La combinación 2 de libros es: \",l2,l4,l6, \"siendo los libros 1,3 y 5, pagando con el descuento $\",a6[14],\"Y ahorrandose $\",min(l2,l4,l6))\n",
        "print(\"Para finalmente terminar pagando $\",a6[5]+a6[14],\"y con un descuento final de $\",min(l2,l4,l6)+min(l1,l3,l5))"
      ],
      "metadata": {
        "colab": {
          "base_uri": "https://localhost:8080/"
        },
        "id": "Kq68l6h8Gokf",
        "outputId": "220fba8c-bc2a-4880-a0c7-890fe5dc8630"
      },
      "execution_count": 170,
      "outputs": [
        {
          "output_type": "stream",
          "name": "stdout",
          "text": [
            "La combinación 1 de libros es:  50000 80000 100000  respectivamente los libros 1,3 y 5, pagando con el descuento $ 180000 Y ahorrandose $ 50000\n",
            "La combinación 2 de libros es:  30000 20000 40000 siendo los libros 1,3 y 5, pagando con el descuento $ 70000 Y ahorrandose $ 20000\n",
            "Para finalmente terminar pagando $ 250000 y con un descuento final de $ 70000\n"
          ]
        }
      ]
    },
    {
      "cell_type": "markdown",
      "source": [
        "Cabe recalcar que para evitar conflictos con la profesora, la ecuación:\n",
        "\n",
        "Total de dinero ahorrado: “Total de libros” – “Descuento de promoción”.\n",
        "\n",
        "No es valida ya que esto sería lo que se gastó para comprar los libros, mas no el ahorro total, sería ahorro total si se le restara al precio total el precio con el descuento, que esta es la suma de los valores minimos de cada libro de cada combinación."
      ],
      "metadata": {
        "id": "eIRvkhEeJSMV"
      }
    }
  ]
}